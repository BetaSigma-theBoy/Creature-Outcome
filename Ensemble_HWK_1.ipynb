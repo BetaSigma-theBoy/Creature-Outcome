{
  "nbformat": 4,
  "nbformat_minor": 0,
  "metadata": {
    "colab": {
      "provenance": []
    },
    "kernelspec": {
      "name": "python3",
      "display_name": "Python 3"
    },
    "language_info": {
      "name": "python"
    }
  },
  "cells": [
    {
      "cell_type": "code",
      "execution_count": null,
      "metadata": {
        "id": "dGPITGaZ-jW9"
      },
      "outputs": [],
      "source": [
        "import pandas as pd\n",
        "from sklearn.model_selection import train_test_split\n",
        "from sklearn.metrics import accuracy_score\n",
        "from sklearn.ensemble import BaggingClassifier\n",
        "from sklearn.tree import DecisionTreeClassifier\n"
      ]
    },
    {
      "cell_type": "code",
      "source": [
        "data = {\n",
        "    'Creature': ['Dragon', 'Unicorn', 'Goblin', 'Phoenix', 'Troll', 'Elf', 'Orc', 'Fairy'],\n",
        "    'Strength': [90, 60, 30, 80, 50, 40, 70, 20], 'Agility': [70, 90, 40, 60, 30, 80, 50, 100],\n",
        "    'Intelligence': [80, 70, 50, 90, 40, 60, 30, 20],\n",
        "    'Outcome': [1, 1, 0, 1, 0, 1, 0, 0] # 1 for Win, 0 for Lose\n",
        "\n",
        "}\n",
        "\n",
        "df = pd.DataFrame(data)\n",
        "\n"
      ],
      "metadata": {
        "id": "-rVACqd1_SbK"
      },
      "execution_count": null,
      "outputs": []
    },
    {
      "cell_type": "code",
      "source": [
        "X = df[['Strength', 'Agility', 'Intelligence']]\n",
        "y = df['Outcome']"
      ],
      "metadata": {
        "id": "KCeGM1Wr_vUv"
      },
      "execution_count": null,
      "outputs": []
    },
    {
      "cell_type": "code",
      "source": [
        "X_train, X_test, y_train, y_test = train_test_split(X, y, test_size=0.2, random_state=43)"
      ],
      "metadata": {
        "id": "sdqgacubAjB_"
      },
      "execution_count": null,
      "outputs": []
    },
    {
      "cell_type": "code",
      "source": [
        "bagging_model = BaggingClassifier(n_estimators=10, random_state=42)\n",
        "bagging_model.fit(X_train, y_train)\n",
        "y_pred = bagging_model.predict(X_test)\n",
        "bagging_accuracy = accuracy_score(y_test, y_pred)\n",
        "print(f\"Bagging Model Accuracy{bagging_accuracy:.2f}\")"
      ],
      "metadata": {
        "colab": {
          "base_uri": "https://localhost:8080/"
        },
        "id": "BiHozuqBAyhD",
        "outputId": "84bef1e3-584f-4fc7-995d-9f9782cd87e8"
      },
      "execution_count": null,
      "outputs": [
        {
          "output_type": "stream",
          "name": "stdout",
          "text": [
            "Bagging Model Accuracy0.50\n"
          ]
        }
      ]
    },
    {
      "cell_type": "code",
      "source": [
        "new_creature = pd.DataFrame({'Strength':[75], 'Agility':[85], 'Intelligence':[60]})\n",
        "predicted_outcome = bagging_model.predict(new_creature)\n",
        "print(f'Predicted Outcome for new creature: {\"Survive\" if predicted_outcome[0] == 1 else \"Die\"}')"
      ],
      "metadata": {
        "colab": {
          "base_uri": "https://localhost:8080/"
        },
        "id": "AXSrrSf3EY8L",
        "outputId": "c9301e2a-04a9-4497-b1f1-7f3f30a7151a"
      },
      "execution_count": null,
      "outputs": [
        {
          "output_type": "stream",
          "name": "stdout",
          "text": [
            "Predicted Outcome for new creature: Win\n"
          ]
        }
      ]
    },
    {
      "cell_type": "code",
      "source": [],
      "metadata": {
        "id": "DFx7vXJ9ErCD"
      },
      "execution_count": null,
      "outputs": []
    }
  ]
}